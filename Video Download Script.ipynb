{
 "cells": [
  {
   "cell_type": "code",
   "execution_count": null,
   "metadata": {
    "collapsed": true
   },
   "outputs": [],
   "source": [
    "# coding: utf-8\n",
    "\n",
    "# In[32]:\n",
    "\n",
    "import pandas as pd\n",
    "import requests\n",
    "\n",
    "\n",
    "# In[33]:\n",
    "\n",
    "# get a df of URLs along with corresponding titles\n",
    "df = pd.read_csv(\"https://eesposito.com/pds/pds_videos.csv\")\n",
    "\n",
    "\n",
    "# In[ ]:\n",
    "\n",
    "# loop through each row\n",
    "for i,title,urlstr in df.itertuples():\n",
    "    \n",
    "    # create output filename\n",
    "    filename = title.replace(\":\",\"\").replace(\"/\",\"\") + \".mp4\"\n",
    "    \n",
    "    print \"fetching \",urlstr\n",
    "    print \"outputing to \", filename \n",
    "    \n",
    "    \n",
    "    with open(filename, 'wb') as output_file:\n",
    "        # fetch the url\n",
    "        response = requests.get(urlstr, stream=True)\n",
    "        if not response.ok:\n",
    "            print \"error\"\n",
    "        for block in response.iter_content(1024):\n",
    "            output_file.write(block)\n",
    "\n",
    "\n",
    "# In[ ]:"
   ]
  }
 ],
 "metadata": {
  "kernelspec": {
   "display_name": "Python [py27]",
   "language": "python",
   "name": "Python [py27]"
  },
  "language_info": {
   "codemirror_mode": {
    "name": "ipython",
    "version": 2
   },
   "file_extension": ".py",
   "mimetype": "text/x-python",
   "name": "python",
   "nbconvert_exporter": "python",
   "pygments_lexer": "ipython2",
   "version": "2.7.12"
  }
 },
 "nbformat": 4,
 "nbformat_minor": 0
}
